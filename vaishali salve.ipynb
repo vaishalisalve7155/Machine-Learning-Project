{
 "cells": [
  {
   "cell_type": "markdown",
   "id": "81367e43",
   "metadata": {},
   "source": [
    "# Machine Learning Project: \n",
    "    Red Wine Quality Prediction Project\n",
    "    Dataset Description : Use machine learning to determine which physiochemical properties make a wine \"Good\"! \n",
    "        \n",
    "        \n",
    "    SETPS:\n",
    "     (1)Improting Pakage\n",
    "     (2)loading Dataset\n",
    "     (3)Ploting Graphs\n",
    "     (4)Pre-processing dataset\n",
    "     (5)Creating ML model\n",
    "     (6)Taning \n",
    "        \n",
    "        \n",
    "        IMPORTING REQUIRED PAKAGE"
   ]
  },
  {
   "cell_type": "code",
   "execution_count": null,
   "id": "1b416668",
   "metadata": {},
   "outputs": [],
   "source": [
    "oading Dataset\n",
    "\n",
    "ython\n",
    "Copy code\n",
    "import pandas as pd\n",
    "\n",
    "# Assuming your dataset is in a CSV file named 'wine_dataset.csv' in the current directory\n",
    "# Adjust the path accordingly if your file is located elsewhere\n",
    "file_path = 'wine_dataset.csv'\n",
    "\n",
    "# Load the dataset into a pandas DataFrame\n",
    "df = pd.read_csv(file_path)\n",
    "\n",
    "# Display the first few rows of the DataFrame to verify that the data has been loaded correctly\n",
    "print(df.head()) "
   ]
  },
  {
   "cell_type": "code",
   "execution_count": null,
   "id": "2bd7d8c8",
   "metadata": {},
   "outputs": [],
   "source": [
    "pandas: For data manipulation and preprocessing.\n",
    "scikit-learn: A comprehensive machine learning library that includes tools for classification, regression, clustering, model selection, and preprocessing.\n",
    "matplotlib and seaborn: For data visualization.\n",
    "numpy: For numerical computing and array operations.\n",
    "scipy: For scientific computing and statistical functions.\n",
    "imbalanced-learn: For dealing with class imbalance by providing techniques such as oversampling, undersampling, and generating synthetic samples.\n",
    "xgboost or lightgbm: Gradient boosting libraries that often perform well in classification tasks.\n",
    "joblib: For saving and loading models.\n",
    "matplotlib and seaborn: For visualization.\n",
    "You can install these packages using pip, for example:\n",
    "\n",
    "Copy code\n",
    "pip install pandas scikit-learn matplotlib seaborn numpy scipy imbalanced-learn xgboost joblib\n",
    "Once installed, you can import them in your Python script or Jupyter Notebook as needed. For example:\n",
    "\n",
    "python\n",
    "Copy code\n",
    "import pandas as pd\n",
    "from sklearn.model_selection import train_test_split\n",
    "from sklearn.tree import DecisionTreeClassifier\n",
    "import matplotlib.pyplot as plt\n",
    "import seaborn as sns\n",
    "import numpy as np\n",
    "from sklearn.metrics import roc_auc_score, roc_curve, confusion_matrix, classification_report\n",
    "These packages should cover most of your needs for building a classification model and analyzing the results. Depending on specific requirements or preferences, you might explore additional packages or functionalities.\n"
   ]
  },
  {
   "cell_type": "code",
   "execution_count": null,
   "id": "4d92fd45",
   "metadata": {},
   "outputs": [],
   "source": []
  },
  {
   "cell_type": "code",
   "execution_count": null,
   "id": "7f8ff963",
   "metadata": {},
   "outputs": [],
   "source": [
    "fixed acidity   volatile    citric acid   residual sugar   chlorides   free sulfur dioxide   total sulfur dioxide  density   pH      sulphates    alcohol   quality  \n",
    "0       7.4         0.70           0.00           1.9           0.076        11.0                       34.0        0.9978    3.51       0.56         9.4       5\n",
    "0       7.8         0.88           0.00           2.6           0.098        25.0                       67.0        0.9968    3.20       0.68         9.8       5\n",
    "0       7.8         0.76           0.04           2.3           0.092        15.0                       54.0        0.9970    3.26       0.65         9.8       5\n",
    "0       11.2        0.28           0.56           1.9           0.075        17.0                       60.0        0.9980    3.16       0.58         9.8       6\n",
    "0       7.4         0.70           0.00           1.9           0.076        11.0                       34.0        0.9978    3.51       0.56         9.4       \n"
   ]
  },
  {
   "cell_type": "code",
   "execution_count": null,
   "id": "79df0bf3",
   "metadata": {},
   "outputs": [],
   "source": [
    "# INFO ABOUT DATA COLUMS \n",
    "wine_df . info()\n",
    "   << Class'pandas. core.frame.Dataframe'> \n",
    "    RangeIndex:1599 entries,0 to 1958 \n",
    "    Data columns (tatal 12 columns):\n",
    "     #   column                 Non-null count       Dtype \n",
    "    ---  ----                   ---------------     ------\n",
    "    1    fixed acidity          1599 non-nu11       float64\n",
    "    2    volatile acidity       1599 non-nu11       float64\n",
    "    3    citric acid            1599 non-nu11       float64\n",
    "    4    residual sugar         1599 non-nu11       float64\n",
    "    5    chlorides              1599 non-nu11       float64\n",
    "    6    free sulfur dioxide    1599 non-nu11       float64\n",
    "    7    total sulfur dioxide   1599 non-nu11       float64\n",
    "    8    density                1599 non-nu11       float64\n",
    "    9    ph                     1599 non-nu11       float64\n",
    "    10   sulphates              1599 non-nu11       float64\n",
    "    11   alcohol                1599 non-nu11       float64\n",
    "    12   quality                1599 non-nu11       float64\n",
    "   dtypes: float64(11),int64(1)\n",
    "   memory usage: 150.0 KB\n",
    "    "
   ]
  },
  {
   "cell_type": "code",
   "execution_count": null,
   "id": "8670a58d",
   "metadata": {},
   "outputs": [],
   "source": [
    "PLOTING GRAPHS FOR BETTER INSIGHT TO DATA DESTRIBUTION\n",
    "\n",
    "\n",
    "python\n",
    "Copy code\n",
    "import matplotlib.pyplot as plt\n",
    "import seaborn as sns\n",
    "\n",
    "# Plot histograms for each input variable\n",
    "plt.figure(figsize=(12, 8))\n",
    "for i, column in enumerate(df.columns[:-1]):\n",
    "    plt.subplot(3, 4, i + 1)\n",
    "    sns.histplot(df[column], bins=20, kde=True)\n",
    "    plt.title(column)\n",
    "plt.tight_layout()\n",
    "plt.show()\n",
    "\n",
    "# Plot distribution of the target variable (quality)\n",
    "plt.figure(figsize=(8, 6))\n",
    "sns.histplot(df['quality'], bins=10, kde=True)\n",
    "plt.title('Distribution of Wine Quality')\n",
    "plt.xlabel('Quality')\n",
    "plt.ylabel('Count')\n",
    "plt.show()\n",
    "\n",
    "# Boxplot for each input variable grouped by wine quality\n",
    "plt.figure(figsize=(12, 8))\n",
    "for i, column in enumerate(df.columns[:-1]):\n",
    "    plt.subplot(3, 4, i + 1)\n",
    "    sns.boxplot(x='quality', y=column, data=df)\n",
    "    plt.title(column)\n",
    "plt.tight_layout()\n",
    "plt.show()\n"
   ]
  },
  {
   "cell_type": "code",
   "execution_count": 30,
   "id": "e08aa7bc",
   "metadata": {},
   "outputs": [
    {
     "ename": "SyntaxError",
     "evalue": "invalid syntax (3540987781.py, line 2)",
     "output_type": "error",
     "traceback": [
      "\u001b[1;36m  Cell \u001b[1;32mIn[30], line 2\u001b[1;36m\u001b[0m\n\u001b[1;33m    2 sns.catplot(x='quality', Data = wine_dataset, kind = 'count')\u001b[0m\n\u001b[1;37m      ^\u001b[0m\n\u001b[1;31mSyntaxError\u001b[0m\u001b[1;31m:\u001b[0m invalid syntax\n"
     ]
    }
   ],
   "source": [
    "1 # number of values for each quality\n",
    "2 sns.catplot(x='quality', Data = wine_dataset, kind = 'count')"
   ]
  },
  {
   "cell_type": "code",
   "execution_count": 31,
   "id": "5ff09bdc",
   "metadata": {
    "scrolled": false
   },
   "outputs": [
    {
     "ename": "NameError",
     "evalue": "name 'sns' is not defined",
     "output_type": "error",
     "traceback": [
      "\u001b[1;31m---------------------------------------------------------------------------\u001b[0m",
      "\u001b[1;31mNameError\u001b[0m                                 Traceback (most recent call last)",
      "Cell \u001b[1;32mIn[31], line 3\u001b[0m\n\u001b[0;32m      1\u001b[0m \u001b[38;5;66;03m# volatile acidity vs Quality\u001b[39;00m\n\u001b[0;32m      2\u001b[0m plot \u001b[38;5;241m=\u001b[39m plt\u001b[38;5;241m.\u001b[39mfigure (figsize\u001b[38;5;241m=\u001b[39m(\u001b[38;5;241m5\u001b[39m,\u001b[38;5;241m5\u001b[39m))\n\u001b[1;32m----> 3\u001b[0m \u001b[43msns\u001b[49m\u001b[38;5;241m.\u001b[39mbarplot(x\u001b[38;5;241m=\u001b[39m\u001b[38;5;124m'\u001b[39m\u001b[38;5;124mquality\u001b[39m\u001b[38;5;124m'\u001b[39m, y \u001b[38;5;241m=\u001b[39m \u001b[38;5;124m'\u001b[39m\u001b[38;5;124mvolatile acidity\u001b[39m\u001b[38;5;124m'\u001b[39m,data \u001b[38;5;241m=\u001b[39mwine_dataset)\n",
      "\u001b[1;31mNameError\u001b[0m: name 'sns' is not defined"
     ]
    },
    {
     "data": {
      "text/plain": [
       "<Figure size 500x500 with 0 Axes>"
      ]
     },
     "metadata": {},
     "output_type": "display_data"
    }
   ],
   "source": [
    "# volatile acidity vs Quality\n",
    "plot = plt.figure (figsize=(5,5))\n",
    "sns.barplot(x='quality', y = 'volatile acidity',data =wine_dataset)\n"
   ]
  }
 ],
 "metadata": {
  "kernelspec": {
   "display_name": "Python 3 (ipykernel)",
   "language": "python",
   "name": "python3"
  },
  "language_info": {
   "codemirror_mode": {
    "name": "ipython",
    "version": 3
   },
   "file_extension": ".py",
   "mimetype": "text/x-python",
   "name": "python",
   "nbconvert_exporter": "python",
   "pygments_lexer": "ipython3",
   "version": "3.10.9"
  }
 },
 "nbformat": 4,
 "nbformat_minor": 5
}
